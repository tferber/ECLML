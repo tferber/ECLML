{
 "cells": [
  {
   "cell_type": "code",
   "execution_count": null,
   "metadata": {},
   "outputs": [],
   "source": [
    "import h5py\n",
    "import numpy as np"
   ]
  },
  {
   "cell_type": "code",
   "execution_count": null,
   "metadata": {},
   "outputs": [],
   "source": [
    "filename = ''\n",
    "h5f = h5py.File(filename, 'r')"
   ]
  },
  {
   "cell_type": "code",
   "execution_count": null,
   "metadata": {},
   "outputs": [],
   "source": [
    "# energies\n",
    "inputs_energy = h5f['input_energy'][:]\n",
    "targets_e0 = h5f['target_e0'][:] #true energy of particle 1\n",
    "targets_e1 = h5f['target_e1'][:]  #true energy of particle 2\n",
    "targets_ebkg = inputs_energy-(targets_e0+targets_e1)\n",
    "targets_ebkg_prime = np.where(targets_ebkg > 0, targets_ebkg, 0)\n",
    "print(inputs_energy.shape, targets_e0.shape, targets_e1.shape, targets_ebkg.shape, targets_ebkg_prime.shape)"
   ]
  },
  {
   "cell_type": "code",
   "execution_count": null,
   "metadata": {},
   "outputs": [],
   "source": [
    "# t_ik\n",
    "# np.seterr(divide='ignore', invalid='ignore')\n",
    "targets_e_sum_prime =  np.dstack((targets_e0, targets_e1, targets_ebkg_prime))\n",
    "x = np.sum(targets_e_sum_prime, axis=2, keepdims=1)\n",
    "targets_zeroes = np.zeros_like(targets_e_sum_prime)\n",
    "targets_t = np.divide(targets_e_sum_prime, x, targets_zeroes, where=x>0)"
   ]
  },
  {
   "cell_type": "code",
   "execution_count": null,
   "metadata": {},
   "outputs": [],
   "source": [
    "targets_t"
   ]
  },
  {
   "cell_type": "code",
   "execution_count": null,
   "metadata": {},
   "outputs": [],
   "source": [
    "targets_e_sum_prime.shape"
   ]
  },
  {
   "cell_type": "code",
   "execution_count": null,
   "metadata": {},
   "outputs": [],
   "source": [
    "inputs_energy"
   ]
  },
  {
   "cell_type": "code",
   "execution_count": null,
   "metadata": {},
   "outputs": [],
   "source": [
    "targets_e0"
   ]
  },
  {
   "cell_type": "code",
   "execution_count": null,
   "metadata": {},
   "outputs": [],
   "source": [
    "targets_e1"
   ]
  },
  {
   "cell_type": "code",
   "execution_count": null,
   "metadata": {},
   "outputs": [],
   "source": []
  }
 ],
 "metadata": {
  "kernelspec": {
   "display_name": "Python 3",
   "language": "python",
   "name": "python3"
  },
  "language_info": {
   "codemirror_mode": {
    "name": "ipython",
    "version": 3
   },
   "file_extension": ".py",
   "mimetype": "text/x-python",
   "name": "python",
   "nbconvert_exporter": "python",
   "pygments_lexer": "ipython3",
   "version": "3.6.8"
  }
 },
 "nbformat": 4,
 "nbformat_minor": 4
}
