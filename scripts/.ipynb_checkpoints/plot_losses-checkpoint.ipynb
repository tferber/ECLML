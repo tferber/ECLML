{
 "cells": [
  {
   "cell_type": "code",
   "execution_count": null,
   "metadata": {},
   "outputs": [],
   "source": [
    "import numpy as np\n",
    "import matplotlib.pyplot as plt\n",
    "plt.style.use('niceplots')"
   ]
  },
  {
   "cell_type": "code",
   "execution_count": null,
   "metadata": {},
   "outputs": [],
   "source": [
    "dict_train = np.load('')\n",
    "dict_test = np.load('')"
   ]
  },
  {
   "cell_type": "code",
   "execution_count": null,
   "metadata": {},
   "outputs": [],
   "source": [
    "epochs = []\n",
    "train_losses = []\n",
    "test_losses = []\n",
    "train_times = []\n",
    "test_times = []\n",
    "lrs = []\n",
    "train_mean_1 = []\n",
    "train_mean_2 = []\n",
    "train_mean_bkg = []\n",
    "train_sigma_1 = []\n",
    "train_sigma_2 = []\n",
    "train_sigma_bkg = []\n",
    "train_a_1 = []\n",
    "train_a_2 = []\n",
    "train_a_bkg = []\n",
    "\n",
    "nepochs = len(dict_train)\n",
    "for idx in range(1, nepochs):\n",
    "    epochs.append(idx)\n",
    "    train_losses.append(dict_train[idx][0])\n",
    "    test_losses.append(dict_test[idx][0])\n",
    "    train_times.append(dict_train[idx][1])\n",
    "    test_times.append(dict_test[idx][1])\n",
    "    lrs.append(dict_train[idx][3])\n",
    "    \n",
    "    train_mean_1.append(dict_train[idx][4][0])\n",
    "    train_sigma_1.append(dict_train[idx][5][0])\n",
    "    train_a_1.append(dict_train[idx][6][0])\n",
    "        \n",
    "    train_mean_2.append(dict_train[idx][4][1])\n",
    "    train_sigma_2.append(dict_train[idx][5][1])\n",
    "    train_a_2.append(dict_train[idx][6][1])\n",
    "    \n",
    "    train_mean_bkg.append(dict_train[idx][4][2])\n",
    "    train_sigma_bkg.append(dict_train[idx][5][2])\n",
    "    train_a_bkg.append(dict_train[idx][6][2])"
   ]
  },
  {
   "cell_type": "code",
   "execution_count": null,
   "metadata": {},
   "outputs": [],
   "source": [
    "plt.plot(epochs, train_losses, 'o', ms=2,  color='red', label='train')\n",
    "plt.plot(epochs, test_losses, 'o',  ms=2,  color='black', label='test')\n",
    "plt.gca().set_yscale('log')\n",
    "plt.gca().set_xlabel(r'Epoch')\n",
    "plt.gca().set_ylabel(r'Loss / graph')\n",
    "plt.xlim(0,nepochs)\n",
    "plt.ylim(4.2e-5, 4.3e-5)\n",
    "plt.yscale('log')\n",
    "plt.legend()"
   ]
  },
  {
   "cell_type": "code",
   "execution_count": null,
   "metadata": {},
   "outputs": [],
   "source": [
    "plt.plot(epochs, lrs, 'o', ms=2, color='black')\n",
    "plt.gca().set_xlabel(r'Epoch')\n",
    "plt.gca().set_ylabel(r'Learning rate')\n",
    "plt.xlim(0,nepochs)\n"
   ]
  },
  {
   "cell_type": "code",
   "execution_count": null,
   "metadata": {},
   "outputs": [],
   "source": [
    "plt.plot(epochs, train_mean_1, 'o', ms=2, color='green', label='training, k=1')\n",
    "plt.plot(epochs, train_mean_2, 'o', ms=2, color='blue', label='training, k=2')\n",
    "plt.plot(epochs, train_mean_bkg, 'o', ms=2, color='orange', label='training, k=bkg')\n",
    "plt.gca().set_xlabel(r'Epoch')\n",
    "plt.gca().set_ylabel(r'Mean')\n",
    "plt.xlim(0,nepochs)\n",
    "plt.legend()"
   ]
  },
  {
   "cell_type": "code",
   "execution_count": null,
   "metadata": {},
   "outputs": [],
   "source": [
    "plt.plot(epochs, train_a_1, 'o', ms=2, color='green', label='training, k=1')\n",
    "plt.plot(epochs, train_a_2, 'o', ms=2, color='blue', label='training, k=2')\n",
    "plt.plot(epochs, train_a_bkg, 'o', ms=2, color='orange', label='training, k=bkg')\n",
    "plt.gca().set_xlabel(r'Epoch')\n",
    "plt.gca().set_ylabel(r'a')\n",
    "plt.xlim(0,nepochs)\n",
    "plt.legend()"
   ]
  },
  {
   "cell_type": "code",
   "execution_count": null,
   "metadata": {},
   "outputs": [],
   "source": [
    "plt.plot(epochs, train_sigma_1, 'o', ms=2, color='green', label='training, k=1')\n",
    "plt.plot(epochs, train_sigma_2, 'o', ms=2, color='blue', label='training, k=2')\n",
    "plt.plot(epochs, train_sigma_bkg, 'o', ms=2, color='orange', label='training, k=bkg')\n",
    "plt.gca().set_xlabel(r'Epoch')\n",
    "plt.gca().set_ylabel(r'$\\sigma$')\n",
    "plt.xlim(0,nepochs)\n",
    "plt.legend()"
   ]
  },
  {
   "cell_type": "code",
   "execution_count": null,
   "metadata": {},
   "outputs": [],
   "source": []
  }
 ],
 "metadata": {
  "kernelspec": {
   "display_name": "Python 3",
   "language": "python",
   "name": "python3"
  },
  "language_info": {
   "codemirror_mode": {
    "name": "ipython",
    "version": 3
   },
   "file_extension": ".py",
   "mimetype": "text/x-python",
   "name": "python",
   "nbconvert_exporter": "python",
   "pygments_lexer": "ipython3",
   "version": "3.6.8"
  }
 },
 "nbformat": 4,
 "nbformat_minor": 4
}
